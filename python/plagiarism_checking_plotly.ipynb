{
 "cells": [
  {
   "cell_type": "code",
   "execution_count": null,
   "id": "754f7c9e-4222-4836-bac3-6567a5c79a3d",
   "metadata": {},
   "outputs": [],
   "source": [
    "import subprocess\n",
    "\n",
    "import ipywidgets as widgets\n",
    "import pandas as pd\n",
    "\n",
    "from util.detection import metrics, metrics_without_count, add_basic_plagiarism_rules\n",
    "from util.graph import create_plagiarism_graph, create_plotly_plagiarism_graph\n",
    "from util.io import read_comparison_csv\n",
    "from util.jupyter import SelectFileButton\n",
    "\n",
    "%load_ext autoreload\n",
    "%autoreload 2"
   ]
  },
  {
   "cell_type": "markdown",
   "id": "20dabe16-8f52-4bbf-9abd-e50ee0bf5f69",
   "metadata": {},
   "source": [
    "### 1. Select comparison file\n",
    "\n",
    "Run the following cell and select any comparison CSV file."
   ]
  },
  {
   "cell_type": "code",
   "execution_count": null,
   "id": "8d620d89-83d3-4607-99e4-83767673ec5e",
   "metadata": {},
   "outputs": [],
   "source": [
    "file_button = SelectFileButton()\n",
    "file_button"
   ]
  },
  {
   "cell_type": "markdown",
   "id": "f3017240-dcfd-4cf9-9b4b-5265b207b1ab",
   "metadata": {},
   "source": [
    "(Optionally) change `excluded_types` according to the selected comparison file to exclude certain types from being visualized in the following graph."
   ]
  },
  {
   "cell_type": "code",
   "execution_count": null,
   "id": "5407d778-cb5f-4438-a32e-67a503c8322b",
   "metadata": {},
   "outputs": [],
   "source": [
    "excluded_types = []  # Might need to change depending on selected comparison file\n",
    "df = read_comparison_csv(file_button.file, excluded_types)\n",
    "print(file_button.file)"
   ]
  },
  {
   "cell_type": "markdown",
   "id": "43c612f0-1d7a-45d1-91df-f6914899b6e9",
   "metadata": {},
   "source": [
    "### 2. Add plagiarism detection rules\n",
    "\n",
    "This step is highly customizable. By default, in the function `add_basic_plagiarism_rules`, 4 rules will be created (based on the default metrics) that are used for plagiarism detection:\n",
    "- `rule0`: Matches if all metrics are $0$.\n",
    "- `rule1`: Matches if `ASTCountDiffMetric` is $< 0.2$ and the sum of all metrics is $< 0.05$.\n",
    "- `rule2`: Matches if `ASTCountDiffMetric` is $< 0.2$ and $\\geq 3$ metrics (excluding `ASTCountDiffMetric`) are $0$.\n",
    "- `rule3`: Matches if `ASTCountDiffMetric` is $< 0.2$ and `RenamedASTDiffMetric` is $< 0.01$.\n",
    "\n",
    "Note that these rules are *not* mutually exclusive!\n",
    "\n",
    "Select the checkboxes for the rules that should be applied in plagiarism detection."
   ]
  },
  {
   "cell_type": "code",
   "execution_count": null,
   "id": "cbf0df2e-08cb-48d6-9a68-d2d2815e246d",
   "metadata": {},
   "outputs": [],
   "source": [
    "df = add_basic_plagiarism_rules(df)\n",
    "checkboxes = [widgets.Checkbox(description=c) for c in df.columns if \"rule\" in c]\n",
    "checkboxes[0].value = True  # Check first box by default\n",
    "widgets.HBox(checkboxes)"
   ]
  },
  {
   "cell_type": "markdown",
   "id": "9841e7a1-2afb-4b2a-b937-66cec8a46255",
   "metadata": {},
   "source": [
    "### 3. Create plagiarism graph\n",
    "\n",
    "Based on the selected checkboxes above, plagiarisms are detected and then visualized in a graph. Edges on the graph (=plagiarism match between two students) can be clicked. The behavior in the below implementation is to open the difference highlighting program [Meld](https://meld.de.softonic.com/) with the two suspected files (implementation note: the Meld executable must be part of the `Path` environment variable; this is to avoid having to specify absolute paths)."
   ]
  },
  {
   "cell_type": "code",
   "execution_count": null,
   "id": "d3ce8aaf-b21d-4564-8f6e-26308546ad2d",
   "metadata": {},
   "outputs": [],
   "source": [
    "def show_diff(data: pd.DataFrame, blocking: bool = True):\n",
    "    for i in range(len(data)):\n",
    "        row = data.iloc[i]\n",
    "        if blocking:\n",
    "            subprocess.run([\"Meld\", row[\"file1\"], row[\"file2\"]])\n",
    "        else:\n",
    "            subprocess.Popen([\"Meld\", row[\"file1\"], row[\"file2\"]])\n",
    "\n",
    "\n",
    "df_ = df.copy()\n",
    "df_[\"is_plag\"] = False\n",
    "for checkbox in checkboxes:\n",
    "    if checkbox.value:\n",
    "        df_[\"is_plag\"] |= df[checkbox.description]\n",
    "graph = create_plagiarism_graph(df_[df_[\"is_plag\"]])\n",
    "\n",
    "create_plotly_plagiarism_graph(graph, edge_click_callback=lambda x: show_diff(x, blocking=False))"
   ]
  },
  {
   "cell_type": "code",
   "execution_count": null,
   "id": "be87a52c-666a-4e40-9eca-0309c1e8e1e5",
   "metadata": {},
   "outputs": [],
   "source": []
  }
 ],
 "metadata": {
  "kernelspec": {
   "display_name": "Python 3 (ipykernel)",
   "language": "python",
   "name": "python3"
  },
  "language_info": {
   "codemirror_mode": {
    "name": "ipython",
    "version": 3
   },
   "file_extension": ".py",
   "mimetype": "text/x-python",
   "name": "python",
   "nbconvert_exporter": "python",
   "pygments_lexer": "ipython3",
   "version": "3.9.10"
  }
 },
 "nbformat": 4,
 "nbformat_minor": 5
}
