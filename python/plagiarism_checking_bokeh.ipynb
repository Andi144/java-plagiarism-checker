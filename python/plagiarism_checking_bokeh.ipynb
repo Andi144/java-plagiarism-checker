{
 "cells": [
  {
   "cell_type": "code",
   "execution_count": null,
   "id": "754f7c9e-4222-4836-bac3-6567a5c79a3d",
   "metadata": {},
   "outputs": [],
   "source": [
    "import ipywidgets as widgets\n",
    "import pandas as pd\n",
    "\n",
    "from util.detection import metrics, metrics_without_count, add_basic_plagiarism_rules\n",
    "from util.graph import create_plagiarism_graph, plot_bokeh_plagiarism_graph\n",
    "from util.io import read_comparison_csv\n",
    "from util.jupyter import SelectFileButton\n",
    "\n",
    "from bokeh.io import output_notebook\n",
    "output_notebook()\n",
    "\n",
    "%load_ext autoreload\n",
    "%autoreload 2"
   ]
  },
  {
   "cell_type": "markdown",
   "id": "5431d094-5302-40c2-8b8f-10b614384cc9",
   "metadata": {},
   "source": [
    "### 1. Select comparison file\n",
    "\n",
    "Run the following cell and select any comparison CSV file."
   ]
  },
  {
   "cell_type": "code",
   "execution_count": null,
   "id": "e5918386-174d-426d-ae87-a145b3d7c8be",
   "metadata": {},
   "outputs": [],
   "source": [
    "file_button = SelectFileButton()\n",
    "file_button"
   ]
  },
  {
   "cell_type": "markdown",
   "id": "f470dd04-f102-4154-a73e-4f4de8893fe7",
   "metadata": {},
   "source": [
    "(Optionally) change `excluded_types` according to the selected comparison file to exclude certain types from being visualized in the following graph."
   ]
  },
  {
   "cell_type": "code",
   "execution_count": null,
   "id": "feaed343-9e00-46b5-9c78-de5a6ba2153c",
   "metadata": {},
   "outputs": [],
   "source": [
    "excluded_types = []  # Might need to change depending on selected comparison file\n",
    "df = read_comparison_csv(file_button.file, excluded_types)\n",
    "print(file_button.file)"
   ]
  },
  {
   "cell_type": "markdown",
   "id": "e6d8b03c-9190-4672-a655-fc423ff21755",
   "metadata": {},
   "source": [
    "### 2. Add plagiarism detection rules\n",
    "\n",
    "This step is highly customizable. By default, in the function `add_basic_plagiarism_rules`, 4 rules will be created (based on the default metrics) that are used for plagiarism detection:\n",
    "- `rule0`: Matches if all metrics are $0$.\n",
    "- `rule1`: Matches if `ASTCountDiffMetric` is $< 0.2$ and the sum of all metrics is $< 0.05$.\n",
    "- `rule2`: Matches if `ASTCountDiffMetric` is $< 0.2$ and $\\geq 3$ metrics (excluding `ASTCountDiffMetric`) are $0$.\n",
    "- `rule3`: Matches if `ASTCountDiffMetric` is $< 0.2$ and `RenamedASTDiffMetric` is $< 0.01$.\n",
    "\n",
    "Note that these rules are *not* mutually exclusive!\n",
    "\n",
    "Select the checkboxes for the rules that should be applied in plagiarism detection."
   ]
  },
  {
   "cell_type": "code",
   "execution_count": null,
   "id": "cbf0df2e-08cb-48d6-9a68-d2d2815e246d",
   "metadata": {},
   "outputs": [],
   "source": [
    "df = add_basic_plagiarism_rules(df)\n",
    "checkboxes = [widgets.Checkbox(description=c) for c in df.columns if \"rule\" in c]\n",
    "checkboxes[0].value = True  # Check first box by default\n",
    "widgets.HBox(checkboxes)"
   ]
  },
  {
   "cell_type": "markdown",
   "id": "c87ec904-4702-43df-a175-725c9d475754",
   "metadata": {},
   "source": [
    "### 3. Create plagiarism graph\n",
    "\n",
    "Based on the selected checkboxes above, plagiarisms are detected and then visualized in a graph. Edges on the graph (=plagiarism match between two students) can be clicked, in which case the two two suspected files are printed to the JacaScript console (implementation limit). "
   ]
  },
  {
   "cell_type": "code",
   "execution_count": null,
   "id": "aa00c5f1-ffd6-42aa-830d-941387cafde3",
   "metadata": {},
   "outputs": [],
   "source": [
    "df_ = df.copy()\n",
    "df_[\"is_plag\"] = False\n",
    "for checkbox in checkboxes:\n",
    "    if checkbox.value:\n",
    "        df_[\"is_plag\"] |= df[checkbox.description]\n",
    "graph = create_plagiarism_graph(df_[df_[\"is_plag\"]])\n",
    "plot_bokeh_plagiarism_graph(graph)"
   ]
  },
  {
   "cell_type": "code",
   "execution_count": null,
   "id": "72a2fa04-1496-4c55-9e46-57650d5579d8",
   "metadata": {},
   "outputs": [],
   "source": []
  }
 ],
 "metadata": {
  "kernelspec": {
   "display_name": "Python 3 (ipykernel)",
   "language": "python",
   "name": "python3"
  },
  "language_info": {
   "codemirror_mode": {
    "name": "ipython",
    "version": 3
   },
   "file_extension": ".py",
   "mimetype": "text/x-python",
   "name": "python",
   "nbconvert_exporter": "python",
   "pygments_lexer": "ipython3",
   "version": "3.9.10"
  }
 },
 "nbformat": 4,
 "nbformat_minor": 5
}
